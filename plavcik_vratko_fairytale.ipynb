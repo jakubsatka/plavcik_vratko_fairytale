{
 "cells": [
  {
   "cell_type": "markdown",
   "id": "continued-telling",
   "metadata": {},
   "source": [
    "### Introduction\n",
    "\n",
    "Plavcik's journey simulation from Plavcik and Vratko fairytale. Description of the code with comments [here](https://www.linkedin.com/posts/activity-6880689663825317888-bBUW)."
   ]
  },
  {
   "cell_type": "markdown",
   "id": "outside-campaign",
   "metadata": {},
   "source": [
    "### Process\n",
    "\n",
    "Variables:\n",
    "1. Starting date time.\n",
    "2. Starting location.\n",
    "3. How many days in the journey.\n",
    "4. How often will Plavcik check for sun's azimuth.\n",
    "5. How fast can person walk.\n"
   ]
  },
  {
   "cell_type": "markdown",
   "id": "pressing-lyric",
   "metadata": {},
   "source": [
    "### Geolocating places"
   ]
  },
  {
   "cell_type": "code",
   "execution_count": null,
   "id": "adjacent-people",
   "metadata": {
    "ExecuteTime": {
     "end_time": "2021-12-23T08:07:41.713001Z",
     "start_time": "2021-12-23T08:07:41.582126Z"
    }
   },
   "outputs": [],
   "source": [
    "from geopy.geocoders import Nominatim\n",
    "\n",
    "geolocator = Nominatim(user_agent=\"plavcik_vratko\")\n",
    "location = geolocator.geocode(\"Vancouver,BC\")\n",
    "print(location.longitude, location.latitude)"
   ]
  },
  {
   "cell_type": "markdown",
   "id": "welcome-foster",
   "metadata": {},
   "source": [
    "### Calculation of the new position based on azimuth and distance"
   ]
  },
  {
   "cell_type": "code",
   "execution_count": null,
   "id": "quick-onion",
   "metadata": {
    "ExecuteTime": {
     "end_time": "2021-12-23T08:12:43.658513Z",
     "start_time": "2021-12-23T08:12:43.594223Z"
    }
   },
   "outputs": [],
   "source": [
    "from pygc import great_circle\n",
    "\n",
    "great_circle(distance=111000, azimuth=65, latitude=30, longitude=-74)"
   ]
  },
  {
   "cell_type": "markdown",
   "id": "contained-queue",
   "metadata": {},
   "source": [
    "### Getting azimuth and altitude of the sun, get important times"
   ]
  },
  {
   "cell_type": "code",
   "execution_count": null,
   "id": "incident-patient",
   "metadata": {
    "ExecuteTime": {
     "end_time": "2021-12-23T08:17:25.083347Z",
     "start_time": "2021-12-23T08:17:25.070155Z"
    }
   },
   "outputs": [],
   "source": [
    "from suncalc import get_position, get_times\n",
    "from datetime import datetime\n",
    "\n",
    "date = datetime.now()\n",
    "lon = -123.113952\n",
    "lat = 49.2608724\n",
    "\n",
    "position_data = get_position(date, lon, lat)\n",
    "times_data = get_times(date, lon, lat)\n",
    "\n",
    "position_data"
   ]
  },
  {
   "cell_type": "code",
   "execution_count": null,
   "id": "devoted-failure",
   "metadata": {
    "ExecuteTime": {
     "end_time": "2021-12-23T08:15:45.959536Z",
     "start_time": "2021-12-23T08:15:45.910508Z"
    }
   },
   "outputs": [],
   "source": [
    "get_times(date, lon, lat)"
   ]
  },
  {
   "cell_type": "markdown",
   "id": "pursuant-allen",
   "metadata": {},
   "source": [
    "### Setup"
   ]
  },
  {
   "cell_type": "code",
   "execution_count": null,
   "id": "collectible-formation",
   "metadata": {
    "ExecuteTime": {
     "end_time": "2021-12-25T10:43:23.741667Z",
     "start_time": "2021-12-25T10:43:22.847884Z"
    }
   },
   "outputs": [],
   "source": [
    "from datetime import datetime\n",
    "import numpy\n",
    "import pandas as pd\n",
    "import geopandas\n",
    "from geopy import distance\n",
    "\n",
    "from pygc import great_circle\n",
    "\n",
    "from suncalc import get_position, get_times\n",
    "import math\n",
    "\n",
    "import folium\n",
    "from folium.features import DivIcon"
   ]
  },
  {
   "cell_type": "code",
   "execution_count": null,
   "id": "crude-louis",
   "metadata": {
    "ExecuteTime": {
     "end_time": "2021-12-25T10:43:23.988745Z",
     "start_time": "2021-12-25T10:43:23.983699Z"
    }
   },
   "outputs": [],
   "source": [
    "def get_sun_azimuth(actual_datetime, actual_lon, actual_lat):\n",
    "    data = get_position(actual_datetime, actual_lon, actual_lat)\n",
    "    azimuth = (data['azimuth'] * 180 / math.pi) + 180\n",
    "    \n",
    "    return azimuth "
   ]
  },
  {
   "cell_type": "code",
   "execution_count": null,
   "id": "greatest-format",
   "metadata": {
    "ExecuteTime": {
     "end_time": "2021-12-25T10:43:25.215796Z",
     "start_time": "2021-12-25T10:43:25.210926Z"
    }
   },
   "outputs": [],
   "source": [
    "def get_sun_time(input_date, actual_lon, actual_lat):\n",
    "    times = get_times(input_date, actual_lon, actual_lat)\n",
    "\n",
    "    return times['sunrise'], times['sunset']"
   ]
  },
  {
   "cell_type": "code",
   "execution_count": null,
   "id": "republican-singing",
   "metadata": {
    "ExecuteTime": {
     "end_time": "2021-12-25T10:53:29.148818Z",
     "start_time": "2021-12-25T10:53:29.123671Z"
    }
   },
   "outputs": [],
   "source": [
    "def create_map(gdf, name):\n",
    "\n",
    "    coords_1 = (gdf['geometry'].iloc[0].y, gdf['geometry'].iloc[0].x)\n",
    "    coords_2 = (gdf['geometry'].iloc[-1].y, gdf['geometry'].iloc[-1].x)\n",
    "\n",
    "    total_distance = round(distance.distance(coords_1, coords_2).km, 2)\n",
    "    distance_traveled = gdf['traveled'].sum()/1000\n",
    "\n",
    "    map_latitude = gdf['geometry'].y.mean()\n",
    "    map_longitude = gdf['geometry'].x.mean()\n",
    "\n",
    "    m = folium.Map(location=[map_latitude, map_longitude])\n",
    "\n",
    "    for _, row in gdf.iterrows():\n",
    "        folium.Marker(location=[row['geometry'].y, row['geometry'].x],\n",
    "                      popup=row['new_time'], tooltip=row['new_time']).add_to(m)\n",
    "\n",
    "#     folium.Circle([start_lat, start_lon], radius=total_distance*1000).add_to(m)\n",
    "\n",
    "    text1 = \"time: {}\".format(key)\n",
    "    text2 = \"Total {} km @ {} km travelled.\".format(\n",
    "        total_distance, distance_traveled)\n",
    "    folium.map.Marker([start_lat, start_lon], icon=DivIcon(icon_size=(300, 36), icon_anchor=(300, 36),\n",
    "                                                           html='<div style=\"font-size: 20pt\">{}\\n{}</div>'.format(\n",
    "                                                               text1, text2),\n",
    "                                                           )).add_to(m)\n",
    "    folium.Marker(location=[gdf['geometry'].iloc[0].y, gdf['geometry'].iloc[0].x],icon=folium.Icon(color=\"green\",icon=\"hamburger\", prefix='fa')).add_to(m)\n",
    "    folium.Marker(location=[gdf['geometry'].iloc[-1].y, gdf['geometry'].iloc[-1].x],icon=folium.Icon(color=\"red\",icon=\"hamburger\", prefix='fa')).add_to(m)\n",
    "    \n",
    "    \n",
    "    sw = gdf[['new_lat', 'new_lon']].min().values.tolist()\n",
    "    ne = gdf[['new_lat', 'new_lon']].max().values.tolist()\n",
    "    m.fit_bounds([sw, ne])\n",
    "\n",
    "    return display(m)"
   ]
  },
  {
   "cell_type": "markdown",
   "id": "rural-index",
   "metadata": {},
   "source": [
    "### Times of interest"
   ]
  },
  {
   "cell_type": "code",
   "execution_count": null,
   "id": "executive-worth",
   "metadata": {
    "ExecuteTime": {
     "end_time": "2021-12-25T10:43:29.204190Z",
     "start_time": "2021-12-25T10:43:29.183172Z"
    }
   },
   "outputs": [],
   "source": [
    "dates_dict = dict()\n",
    "dates_dict['spring_equinox'] = '2022-03-20'\n",
    "dates_dict['summer_solstice'] = '2022-06-21'\n",
    "dates_dict['autumn_equinox'] = '2022-09-23'\n",
    "dates_dict['winter_solstice'] = '2022-12-21'\n",
    "\n",
    "dates_dict"
   ]
  },
  {
   "cell_type": "markdown",
   "id": "short-practitioner",
   "metadata": {},
   "source": [
    "### Place of interest"
   ]
  },
  {
   "cell_type": "code",
   "execution_count": null,
   "id": "severe-enterprise",
   "metadata": {
    "ExecuteTime": {
     "end_time": "2021-12-25T10:43:31.123062Z",
     "start_time": "2021-12-25T10:43:31.084513Z"
    }
   },
   "outputs": [],
   "source": [
    "pl_of_interest = dict()\n",
    "pl_of_interest['center_of_europe'] = (48.743774, 18.913666)\n",
    "pl_of_interest['arctic_circle_yukon'] = (66.566667, -141)\n",
    "pl_of_interest['tropic_capricorn_australia'] = (-23.441889, 133.832804)\n",
    "pl_of_interest['equator_uganda'] = (0, 29.716667)\n",
    "\n",
    "\n",
    "m = folium.Map()\n",
    "\n",
    "for key, value in pl_of_interest.items():\n",
    "    folium.Marker(location=[value[0], value[1]],\n",
    "                  popup=key, tooltip=key).add_to(m)\n",
    "    folium.Marker(location=[value[0], value[1]],\n",
    "                  icon=DivIcon(icon_size=(1, 1), icon_anchor=(1, 0),\n",
    "                               html='<div style=\"font-size: 15pt\">{}</div>'.format(key))).add_to(m)\n",
    "\n",
    " \n",
    "display(m)"
   ]
  },
  {
   "cell_type": "markdown",
   "id": "skilled-solid",
   "metadata": {},
   "source": [
    "### The Code"
   ]
  },
  {
   "cell_type": "code",
   "execution_count": null,
   "id": "intense-possible",
   "metadata": {
    "ExecuteTime": {
     "end_time": "2021-12-26T01:52:54.915973Z",
     "start_time": "2021-12-26T01:52:51.568339Z"
    },
    "scrolled": false
   },
   "outputs": [],
   "source": [
    "journey_days = 7\n",
    "corect_azimuth_min = 30\n",
    "walk_kmh = 5\n",
    "increment_distance_km = (walk_kmh / (60 / corect_azimuth_min) * 1000)\n",
    "days_to_substract = round(journey_days/2)\n",
    "\n",
    "location = 'equator_uganda'\n",
    "\n",
    "start_lon = pl_of_interest[location][1]\n",
    "start_lat = pl_of_interest[location][0]\n",
    "\n",
    "for key, value in dates_dict.items():\n",
    "\n",
    "    start_date = datetime.fromisoformat(value)\n",
    "    start_date = start_date - pd.Timedelta(days=days_to_substract)\n",
    "\n",
    "    start_sunrise = get_sun_time(start_date, start_lon, start_lat)[0]\n",
    "    print(\"Journey started: \" + str(start_date),\n",
    "          \"Start day sunrise: \" + str(start_sunrise))\n",
    "\n",
    "    if pd.isnull(start_sunrise):\n",
    "        print(\"No sunrise for given time of the year for given location!\")\n",
    "        start_sunrise = start_date\n",
    "\n",
    "    start_sun_azimuth = get_sun_azimuth(start_sunrise, start_lon, start_lat)\n",
    "#     print(\"Start date sunrise azimuth: \" + str(start_sun_azimuth))\n",
    "\n",
    "    sun_azimuth = start_sun_azimuth\n",
    "    new_lon = start_lon\n",
    "    new_lat = start_lat\n",
    "    date = start_date\n",
    "\n",
    "    df = pd.DataFrame()\n",
    "\n",
    "    for i in range(0, journey_days):\n",
    "        journey_date = date + pd.Timedelta(days=i)\n",
    "\n",
    "        day_sunrise = get_sun_time(journey_date, new_lon, new_lat)[0]\n",
    "        if pd.isnull(day_sunrise):\n",
    "            day_sunrise = journey_date\n",
    "\n",
    "        journey_day = str(i+1)\n",
    "        print(\"Day of the journey: \" + str(journey_day), \"Current date: \" + str(journey_date), \"Day sunrise time: \" + str(day_sunrise))\n",
    "        new_time = day_sunrise\n",
    "\n",
    "        while True:\n",
    "            new_pos = great_circle(distance=increment_distance_km,\n",
    "                                   azimuth=sun_azimuth, latitude=new_lat, longitude=new_lon)\n",
    "\n",
    "            new_lat = new_pos['latitude']\n",
    "            new_lon = new_pos['longitude']\n",
    "\n",
    "            new_time = new_time + pd.Timedelta(minutes=corect_azimuth_min)\n",
    "            sun_azimuth = get_sun_azimuth(new_time, new_lon, new_lat)\n",
    "\n",
    "    #         print(\"Updated time: \" + str(new_time))\n",
    "    #         print(new_lon, new_lat)\n",
    "    #         print(\"Actual sun azimuth: \" + str(sun_azimuth))\n",
    "\n",
    "            new_loc_sunset = get_sun_time(new_time, new_lon, new_lat)[1]\n",
    "\n",
    "            row_dict = dict(\n",
    "                journey_start_date=start_date.date(),\n",
    "                journey_date=journey_date.date(),\n",
    "                journey_day=journey_day,\n",
    "                day_sunrise=day_sunrise,\n",
    "                new_time=new_time,\n",
    "                new_lat=new_lat,\n",
    "                new_lon=new_lon,\n",
    "                sun_azimuth=sun_azimuth,\n",
    "                traveled=increment_distance_km)\n",
    "\n",
    "            df = df.append(row_dict, ignore_index=True)\n",
    "\n",
    "            if (new_time > new_loc_sunset) or (new_time > (journey_date + pd.Timedelta(days=i))):\n",
    "                break\n",
    "\n",
    "    gdf = geopandas.GeoDataFrame(\n",
    "        df, geometry=geopandas.points_from_xy(df.new_lon, df.new_lat))\n",
    "    \n",
    "    create_map(gdf, key)"
   ]
  }
 ],
 "metadata": {
  "kernelspec": {
   "display_name": "gen_venv_3_7",
   "language": "python",
   "name": "gen_venv_3_7"
  },
  "language_info": {
   "codemirror_mode": {
    "name": "ipython",
    "version": 3
   },
   "file_extension": ".py",
   "mimetype": "text/x-python",
   "name": "python",
   "nbconvert_exporter": "python",
   "pygments_lexer": "ipython3",
   "version": "3.7.10"
  },
  "varInspector": {
   "cols": {
    "lenName": 16,
    "lenType": 16,
    "lenVar": 40
   },
   "kernels_config": {
    "python": {
     "delete_cmd_postfix": "",
     "delete_cmd_prefix": "del ",
     "library": "var_list.py",
     "varRefreshCmd": "print(var_dic_list())"
    },
    "r": {
     "delete_cmd_postfix": ") ",
     "delete_cmd_prefix": "rm(",
     "library": "var_list.r",
     "varRefreshCmd": "cat(var_dic_list()) "
    }
   },
   "types_to_exclude": [
    "module",
    "function",
    "builtin_function_or_method",
    "instance",
    "_Feature"
   ],
   "window_display": false
  }
 },
 "nbformat": 4,
 "nbformat_minor": 5
}
